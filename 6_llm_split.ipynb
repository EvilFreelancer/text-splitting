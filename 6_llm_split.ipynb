{
 "cells": [
  {
   "metadata": {
    "ExecuteTime": {
     "end_time": "2024-05-12T20:27:22.829139Z",
     "start_time": "2024-05-12T20:27:22.824675Z"
    }
   },
   "cell_type": "code",
   "source": [
    "text = \"\"\"\n",
    "Graphs are a kind of data structure which models a set of objects\n",
    "(nodes) and their relationships (edges). Recently, researches on\n",
    "analyzing graphs with machine learning have been receiving more and\n",
    "more attention because of the great expressive power of graphs, i.e.\n",
    "graphs can be used as denotation of a large number of systems across\n",
    "various areas including social science (social networks (Wu et al., 2020),\n",
    "natural science (physical systems (Sanchez et al., 2018; Battaglia et al.,\n",
    "2016) and protein-protein interaction networks (Fout et al., 2017)),\n",
    "knowledge graphs (Hamaguchi et al., 2017) and many other research\n",
    "areas (Khalil et al., 2017). As a unique non-Euclidean data structure for\n",
    "machine learning, graph analysis focuses on tasks such as node classifi-\n",
    "cation, link prediction, and clustering. Graph neural networks (GNNs) are\n",
    "deep learning based methods that operate on graph domain. Due to its\n",
    "convincing performance, GNN has become a widely applied graph\n",
    "analysis method recently. In the following paragraphs, we will illustrate\n",
    "the fundamental motivations of graph neural networks.\n",
    "\"\"\""
   ],
   "id": "590c6a7a34d91438",
   "outputs": [],
   "execution_count": 1
  },
  {
   "metadata": {
    "ExecuteTime": {
     "end_time": "2024-05-12T20:27:24.410074Z",
     "start_time": "2024-05-12T20:27:22.829970Z"
    }
   },
   "cell_type": "code",
   "source": [
    "from langchain import PromptTemplate\n",
    "from langchain_core.output_parsers import MarkdownListOutputParser\n",
    "from langchain.chat_models import ChatOllama\n",
    "\n",
    "llm = ChatOllama(base_url='http://127.0.0.1:11434', model=\"llama3:8b-instruct-q5_1\")\n",
    "prompt = PromptTemplate(template=open(\"prompt_split_en.txt\", \"r\").read(), input_variables=['text'])\n",
    "parser = MarkdownListOutputParser()\n",
    "chain = prompt | llm | parser\n",
    "\n",
    "chunks = chain.invoke({\"text\": text})\n",
    "\n",
    "print(f\"Всего чанков: {len(chunks)}\")\n",
    "print(\"Первые N чанков:\")\n",
    "chunks[:10]"
   ],
   "id": "initial_id",
   "outputs": [
    {
     "name": "stdout",
     "output_type": "stream",
     "text": [
      "Всего чанков: 5\n",
      "Первые N чанков:\n"
     ]
    },
    {
     "data": {
      "text/plain": [
       "['Graphs are a kind of data structure that models a set of objects (nodes) and their relationships (edges).',\n",
       " 'Research on analyzing graphs with machine learning has been gaining attention due to the expressive power of graphs.',\n",
       " 'Graph analysis focuses on tasks such as node classification, link prediction, and clustering.',\n",
       " 'Graph neural networks (GNNs) are deep learning based methods that operate on graph domain.',\n",
       " 'GNNs have become a widely applied graph analysis method recently.']"
      ]
     },
     "execution_count": 2,
     "metadata": {},
     "output_type": "execute_result"
    }
   ],
   "execution_count": 2
  }
 ],
 "metadata": {
  "kernelspec": {
   "display_name": "Python 3",
   "language": "python",
   "name": "python3"
  },
  "language_info": {
   "codemirror_mode": {
    "name": "ipython",
    "version": 2
   },
   "file_extension": ".py",
   "mimetype": "text/x-python",
   "name": "python",
   "nbconvert_exporter": "python",
   "pygments_lexer": "ipython2",
   "version": "2.7.6"
  }
 },
 "nbformat": 4,
 "nbformat_minor": 5
}
