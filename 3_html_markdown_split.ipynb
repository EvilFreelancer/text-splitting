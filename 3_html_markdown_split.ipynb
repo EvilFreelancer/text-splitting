{
 "cells": [
  {
   "metadata": {},
   "cell_type": "markdown",
   "source": [
    "# Нарезка HTML и Markdown документов по главам и подглавам\n",
    "\n",
    "В данном юпитер-блокноте мы рассмотрим как можно при помощи библиотеки LangChain нарежать на чанки документы пришедшие к нам в формате HTML и Markdown. "
   ],
   "id": "d4f25810fce9ec0"
  },
  {
   "metadata": {},
   "cell_type": "markdown",
   "source": [
    "## Нарезка HTML-документов\n",
    "\n",
    "В качестве примера возъмём следующего вида HTML-документ:"
   ],
   "id": "d0b5f9186d96d072"
  },
  {
   "metadata": {
    "ExecuteTime": {
     "end_time": "2024-05-12T20:24:53.059165Z",
     "start_time": "2024-05-12T20:24:53.056628Z"
    }
   },
   "cell_type": "code",
   "source": [
    "html_string = \"\"\"\n",
    "<!DOCTYPE html>\n",
    "<html>\n",
    "<body>\n",
    "    <div>\n",
    "        <h1>Foo</h1>\n",
    "        <p>Some intro text about Foo.</p>\n",
    "        <div>\n",
    "            <h2>Bar main section</h2>\n",
    "            <p>Some intro text about Bar.</p>\n",
    "            <h3>Bar subsection 1</h3>\n",
    "            <p>Some text about the first subtopic of Bar.</p>\n",
    "            <h3>Bar subsection 2</h3>\n",
    "            <p>Some text about the second subtopic of Bar.</p>\n",
    "        </div>\n",
    "        <div>\n",
    "            <h2>Baz</h2>\n",
    "            <p>Some text about Baz</p>\n",
    "        </div>\n",
    "        <br>\n",
    "        <p>Some concluding text about Foo</p>\n",
    "    </div>\n",
    "</body>\n",
    "</html>\n",
    "\"\"\""
   ],
   "id": "5e3bb41b6b8669a2",
   "outputs": [],
   "execution_count": 5
  },
  {
   "metadata": {},
   "cell_type": "markdown",
   "source": "Используя следующие код нарежем документ на секции поменьше:",
   "id": "1245e88228bfb53b"
  },
  {
   "metadata": {
    "ExecuteTime": {
     "end_time": "2024-05-12T20:24:53.067260Z",
     "start_time": "2024-05-12T20:24:53.060289Z"
    }
   },
   "cell_type": "code",
   "source": [
    "from langchain_text_splitters import HTMLHeaderTextSplitter\n",
    "\n",
    "headers_to_split_on = [(\"h1\", \"Header 1\"), (\"h2\", \"Header 2\"), (\"h3\", \"Header 3\")]\n",
    "html_splitter = HTMLHeaderTextSplitter(headers_to_split_on=headers_to_split_on)\n",
    "chunks = html_splitter.split_text(html_string)\n",
    "\n",
    "print(f\"Всего чанков: {len(chunks)}\")\n",
    "print(\"Первые N чанков:\")\n",
    "chunks[:10]"
   ],
   "id": "initial_id",
   "outputs": [
    {
     "name": "stdout",
     "output_type": "stream",
     "text": [
      "Всего чанков: 8\n",
      "Первые N чанков:\n"
     ]
    },
    {
     "data": {
      "text/plain": [
       "[Document(page_content='Foo'),\n",
       " Document(page_content='Some intro text about Foo.  \\nBar main section Bar subsection 1 Bar subsection 2', metadata={'Header 1': 'Foo'}),\n",
       " Document(page_content='Some intro text about Bar.', metadata={'Header 1': 'Foo', 'Header 2': 'Bar main section'}),\n",
       " Document(page_content='Some text about the first subtopic of Bar.', metadata={'Header 1': 'Foo', 'Header 2': 'Bar main section', 'Header 3': 'Bar subsection 1'}),\n",
       " Document(page_content='Some text about the second subtopic of Bar.', metadata={'Header 1': 'Foo', 'Header 2': 'Bar main section', 'Header 3': 'Bar subsection 2'}),\n",
       " Document(page_content='Baz', metadata={'Header 1': 'Foo'}),\n",
       " Document(page_content='Some text about Baz', metadata={'Header 1': 'Foo', 'Header 2': 'Baz'}),\n",
       " Document(page_content='Some concluding text about Foo', metadata={'Header 1': 'Foo'})]"
      ]
     },
     "execution_count": 6,
     "metadata": {},
     "output_type": "execute_result"
    }
   ],
   "execution_count": 6
  },
  {
   "metadata": {},
   "cell_type": "markdown",
   "source": [
    "## Нарезка Markdown-документа\n",
    "\n",
    "Следующий пример похож на предыдущий, но тут мы уже будем нарезать на чанки Markdown-документ:"
   ],
   "id": "e72962943ba698aa"
  },
  {
   "metadata": {
    "ExecuteTime": {
     "end_time": "2024-05-12T20:24:53.070185Z",
     "start_time": "2024-05-12T20:24:53.068102Z"
    }
   },
   "cell_type": "code",
   "source": [
    "markdown_string = \"\"\"\n",
    "# Foo\n",
    "## Bar\n",
    "Hi this is Jim\n",
    "Hi this is Joe\n",
    "\n",
    "### Boo\n",
    "Hi this is Lance\n",
    "\n",
    "## Baz\n",
    "Hi this is Molly\n",
    "\"\"\""
   ],
   "id": "ec33bab52cf0e2b3",
   "outputs": [],
   "execution_count": 7
  },
  {
   "metadata": {},
   "cell_type": "markdown",
   "source": "Код нарезки выглдяти следующим образом:",
   "id": "106760067f80e901"
  },
  {
   "metadata": {
    "ExecuteTime": {
     "end_time": "2024-05-12T20:24:53.075921Z",
     "start_time": "2024-05-12T20:24:53.071512Z"
    }
   },
   "cell_type": "code",
   "source": [
    "from langchain_text_splitters import MarkdownHeaderTextSplitter\n",
    "\n",
    "headers_to_split_on = [(\"#\", \"Header 1\"), (\"##\", \"Header 2\"), (\"###\", \"Header 3\")]\n",
    "markdown_splitter = MarkdownHeaderTextSplitter(headers_to_split_on=headers_to_split_on)\n",
    "chunks = markdown_splitter.split_text(markdown_string)\n",
    "\n",
    "print(f\"Всего чанков: {len(chunks)}\")\n",
    "print(\"Первые N чанков:\")\n",
    "chunks[:10]"
   ],
   "id": "66ce873fc457d99d",
   "outputs": [
    {
     "name": "stdout",
     "output_type": "stream",
     "text": [
      "Всего чанков: 3\n",
      "Первые N чанков:\n"
     ]
    },
    {
     "data": {
      "text/plain": [
       "[Document(page_content='Hi this is Jim\\nHi this is Joe', metadata={'Header 1': 'Foo', 'Header 2': 'Bar'}),\n",
       " Document(page_content='Hi this is Lance', metadata={'Header 1': 'Foo', 'Header 2': 'Bar', 'Header 3': 'Boo'}),\n",
       " Document(page_content='Hi this is Molly', metadata={'Header 1': 'Foo', 'Header 2': 'Baz'})]"
      ]
     },
     "execution_count": 8,
     "metadata": {},
     "output_type": "execute_result"
    }
   ],
   "execution_count": 8
  },
  {
   "metadata": {},
   "cell_type": "markdown",
   "source": "Как видно из результата работы класс, нарезка Markdown более совершенна чем нарезка HTML, так как не создаются дубликаты, именно поэтому Markdown этом формат который я предпочитаю при создании RAG систем.",
   "id": "270ac7e7b32b4322"
  }
 ],
 "metadata": {
  "kernelspec": {
   "display_name": "Python 3",
   "language": "python",
   "name": "python3"
  },
  "language_info": {
   "codemirror_mode": {
    "name": "ipython",
    "version": 2
   },
   "file_extension": ".py",
   "mimetype": "text/x-python",
   "name": "python",
   "nbconvert_exporter": "python",
   "pygments_lexer": "ipython2",
   "version": "2.7.6"
  }
 },
 "nbformat": 4,
 "nbformat_minor": 5
}
