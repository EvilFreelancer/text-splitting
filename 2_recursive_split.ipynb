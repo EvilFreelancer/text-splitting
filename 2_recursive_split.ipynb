{
 "cells": [
  {
   "metadata": {},
   "cell_type": "markdown",
   "source": [
    "# Рекурсивная нарезка чанков\n",
    "\n",
    "В данном примере мы рассмотрим то как при помощи класса RecursiveCharacterTextSplitter пакета LangChain можно нарезать текст по абзацам и предложениями."
   ],
   "id": "2ffcf1031a9a6965"
  },
  {
   "metadata": {},
   "cell_type": "code",
   "outputs": [],
   "execution_count": 30,
   "source": [
    "file_path = 'constitutionrf.txt'\n",
    "with open(file_path, 'r', encoding='utf-8') as file:\n",
    "    text = file.read()"
   ],
   "id": "c30e062bdc978d20"
  },
  {
   "metadata": {
    "ExecuteTime": {
     "end_time": "2024-05-12T07:54:59.983668Z",
     "start_time": "2024-05-12T07:54:59.965303Z"
    }
   },
   "cell_type": "code",
   "source": [
    "from langchain_text_splitters import RecursiveCharacterTextSplitter\n",
    "from pprint import pprint\n",
    "\n",
    "text_splitter = RecursiveCharacterTextSplitter(\n",
    "    chunk_size=200,\n",
    "    chunk_overlap=20,\n",
    "    length_function=len,\n",
    "    is_separator_regex=False,\n",
    ")\n",
    "\n",
    "chunks = text_splitter.create_documents([text])\n",
    "\n",
    "print(f\"Всего чанков: {len(chunks)}\")\n",
    "print(\"Первые N чанков:\")\n",
    "pprint(chunks[:10])"
   ],
   "id": "initial_id",
   "outputs": [
    {
     "name": "stdout",
     "output_type": "stream",
     "text": [
      "Всего чанков: 998\n",
      "Первые N чанков:\n",
      "[Document(page_content='\\ufeffКОНСТИТУЦИЯ РОССИЙСКОЙ ФЕДЕРАЦИИ'),\n",
      " Document(page_content='Мы, многонациональный народ Российской Федерации,\\nсоединенные общей судьбой на своей земле,\\nутверждая права и свободы человека, гражданский мир и согласие,'),\n",
      " Document(page_content='сохраняя исторически сложившееся государственное единство,\\nисходя из общепризнанных принципов равноправия и самоопределения народов,'),\n",
      " Document(page_content='чтя память предков, передавших нам любовь и уважение к Отечеству, веру в добро и справедливость,\\nвозрождая суверенную государственность России и утверждая незыблемость ее демократической основы,'),\n",
      " Document(page_content='стремясь обеспечить благополучие и процветание России,\\nисходя из ответственности за свою Родину перед нынешним и будущими поколениями,\\nсознавая себя частью мирового сообщества,'),\n",
      " Document(page_content='принимаем КОНСТИТУЦИЮ РОССИЙСКОЙ ФЕДЕРАЦИИ.'),\n",
      " Document(page_content='РАЗДЕЛ ПЕРВЫЙ\\n\\nГЛАВА 1.\\nОСНОВЫ КОНСТИТУЦИОННОГО СТРОЯ\\n\\nСтатья 1'),\n",
      " Document(page_content='Статья 1\\n\\n1. Российская Федерация - Россия есть демократическое федеративное правовое государство с республиканской формой правления.\\n2. Наименования Российская Федерация и Россия равнозначны.'),\n",
      " Document(page_content='Статья 2\\n\\nЧеловек, его права и свободы являются высшей ценностью. Признание, соблюдение и защита прав и свобод человека и гражданина - обязанность государства.\\n\\nСтатья 3'),\n",
      " Document(page_content='1. Носителем суверенитета и единственным источником власти в Российской Федерации является ее многонациональный народ.')]\n"
     ]
    }
   ],
   "execution_count": 32
  },
  {
   "metadata": {
    "ExecuteTime": {
     "end_time": "2024-05-12T08:07:26.103841Z",
     "start_time": "2024-05-12T08:07:26.087132Z"
    }
   },
   "cell_type": "code",
   "source": [
    "text_splitter = RecursiveCharacterTextSplitter(\n",
    "    separators=[\n",
    "        \"\\n\\n\", \"\\n\", \" \", \".\", \",\",\n",
    "        \"\\u200b\",  # Zero-width space\n",
    "        \"\\uff0c\",  # Fullwidth comma\n",
    "        \"\\u3001\",  # Ideographic comma\n",
    "        \"\\uff0e\",  # Fullwidth full stop\n",
    "        \"\\u3002\",  # Ideographic full stop\n",
    "        \"\"  # Последний элемент в списке пытается делить текст на максимально маленькие части\n",
    "    ],\n",
    "    chunk_size=200,\n",
    "    chunk_overlap=20\n",
    ")\n",
    "\n",
    "chunks = text_splitter.create_documents([text])\n",
    "\n",
    "print(f\"Всего чанков: {len(chunks)}\")\n",
    "print(\"Первые N чанков:\")\n",
    "pprint(chunks[:10])"
   ],
   "id": "c5882fe0933a5ae",
   "outputs": [
    {
     "name": "stdout",
     "output_type": "stream",
     "text": [
      "Всего чанков: 998\n",
      "Первые N чанков:\n",
      "[Document(page_content='\\ufeffКОНСТИТУЦИЯ РОССИЙСКОЙ ФЕДЕРАЦИИ'),\n",
      " Document(page_content='Мы, многонациональный народ Российской Федерации,\\nсоединенные общей судьбой на своей земле,\\nутверждая права и свободы человека, гражданский мир и согласие,'),\n",
      " Document(page_content='сохраняя исторически сложившееся государственное единство,\\nисходя из общепризнанных принципов равноправия и самоопределения народов,'),\n",
      " Document(page_content='чтя память предков, передавших нам любовь и уважение к Отечеству, веру в добро и справедливость,\\nвозрождая суверенную государственность России и утверждая незыблемость ее демократической основы,'),\n",
      " Document(page_content='стремясь обеспечить благополучие и процветание России,\\nисходя из ответственности за свою Родину перед нынешним и будущими поколениями,\\nсознавая себя частью мирового сообщества,'),\n",
      " Document(page_content='принимаем КОНСТИТУЦИЮ РОССИЙСКОЙ ФЕДЕРАЦИИ.'),\n",
      " Document(page_content='РАЗДЕЛ ПЕРВЫЙ\\n\\nГЛАВА 1.\\nОСНОВЫ КОНСТИТУЦИОННОГО СТРОЯ\\n\\nСтатья 1'),\n",
      " Document(page_content='Статья 1\\n\\n1. Российская Федерация - Россия есть демократическое федеративное правовое государство с республиканской формой правления.\\n2. Наименования Российская Федерация и Россия равнозначны.'),\n",
      " Document(page_content='Статья 2\\n\\nЧеловек, его права и свободы являются высшей ценностью. Признание, соблюдение и защита прав и свобод человека и гражданина - обязанность государства.\\n\\nСтатья 3'),\n",
      " Document(page_content='1. Носителем суверенитета и единственным источником власти в Российской Федерации является ее многонациональный народ.')]\n"
     ]
    }
   ],
   "execution_count": 36
  }
 ],
 "metadata": {
  "kernelspec": {
   "display_name": "Python 3",
   "language": "python",
   "name": "python3"
  },
  "language_info": {
   "codemirror_mode": {
    "name": "ipython",
    "version": 2
   },
   "file_extension": ".py",
   "mimetype": "text/x-python",
   "name": "python",
   "nbconvert_exporter": "python",
   "pygments_lexer": "ipython2",
   "version": "2.7.6"
  }
 },
 "nbformat": 4,
 "nbformat_minor": 5
}
