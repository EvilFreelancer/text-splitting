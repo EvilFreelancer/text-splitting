{
 "cells": [
  {
   "metadata": {},
   "cell_type": "markdown",
   "source": [
    "# Рекурсивная нарезка текста на чанки с использованием LangChain\n",
    "\n",
    "В данном Jupyter-блокноте мы исследуем метод рекурсивной нарезки текста с помощью класса RecursiveCharacterTextSplitter из библиотеки LangChain. Этот метод позволяет эффективно разделить текст на смысловые единицы, такие как абзацы и предложения, сохраняя при этом их семантическую целостность. Рекурсивная нарезка особенно полезна в случаях, когда необходимо максимально учитывать контекстуальные и структурные границы текста для последующих задач обработки естественного языка."
   ],
   "id": "2ffcf1031a9a6965"
  },
  {
   "metadata": {},
   "cell_type": "markdown",
   "source": [
    "## Базовый пример рекурсивной нарезки текста\n",
    "\n",
    "В данном примере используется текст Конституции Российской Федерации."
   ],
   "id": "6a02d4124525b8d2"
  },
  {
   "metadata": {
    "ExecuteTime": {
     "end_time": "2024-05-12T20:24:36.817579Z",
     "start_time": "2024-05-12T20:24:36.815049Z"
    }
   },
   "cell_type": "code",
   "source": [
    "file_path = 'constitutionrf.txt'\n",
    "with open(file_path, 'r', encoding='utf-8') as file:\n",
    "    text = file.read()"
   ],
   "id": "c30e062bdc978d20",
   "outputs": [],
   "execution_count": 6
  },
  {
   "metadata": {},
   "cell_type": "markdown",
   "source": "Создадим объект класса `RecursiveCharacterTextSplitter` и далее передадим на вход метода create_documents массив из текстовых документов, после чего отобразим статистическую информацию. ",
   "id": "b456c2a6925e4fb4"
  },
  {
   "metadata": {
    "ExecuteTime": {
     "end_time": "2024-05-12T20:24:36.843530Z",
     "start_time": "2024-05-12T20:24:36.818761Z"
    }
   },
   "cell_type": "code",
   "source": [
    "from langchain_text_splitters import RecursiveCharacterTextSplitter\n",
    "\n",
    "text_splitter = RecursiveCharacterTextSplitter(\n",
    "    chunk_size=200,\n",
    "    chunk_overlap=20,\n",
    "    length_function=len,\n",
    "    is_separator_regex=False,\n",
    ")\n",
    "\n",
    "chunks = text_splitter.create_documents([text])\n",
    "\n",
    "print(f\"Всего чанков: {len(chunks)}\")\n",
    "print(\"Первые N чанков:\")\n",
    "chunks[:10]"
   ],
   "id": "initial_id",
   "outputs": [
    {
     "name": "stdout",
     "output_type": "stream",
     "text": [
      "Всего чанков: 998\n",
      "Первые N чанков:\n"
     ]
    },
    {
     "data": {
      "text/plain": [
       "[Document(page_content='\\ufeffКОНСТИТУЦИЯ РОССИЙСКОЙ ФЕДЕРАЦИИ'),\n",
       " Document(page_content='Мы, многонациональный народ Российской Федерации,\\nсоединенные общей судьбой на своей земле,\\nутверждая права и свободы человека, гражданский мир и согласие,'),\n",
       " Document(page_content='сохраняя исторически сложившееся государственное единство,\\nисходя из общепризнанных принципов равноправия и самоопределения народов,'),\n",
       " Document(page_content='чтя память предков, передавших нам любовь и уважение к Отечеству, веру в добро и справедливость,\\nвозрождая суверенную государственность России и утверждая незыблемость ее демократической основы,'),\n",
       " Document(page_content='стремясь обеспечить благополучие и процветание России,\\nисходя из ответственности за свою Родину перед нынешним и будущими поколениями,\\nсознавая себя частью мирового сообщества,'),\n",
       " Document(page_content='принимаем КОНСТИТУЦИЮ РОССИЙСКОЙ ФЕДЕРАЦИИ.'),\n",
       " Document(page_content='РАЗДЕЛ ПЕРВЫЙ\\n\\nГЛАВА 1.\\nОСНОВЫ КОНСТИТУЦИОННОГО СТРОЯ\\n\\nСтатья 1'),\n",
       " Document(page_content='Статья 1\\n\\n1. Российская Федерация - Россия есть демократическое федеративное правовое государство с республиканской формой правления.\\n2. Наименования Российская Федерация и Россия равнозначны.'),\n",
       " Document(page_content='Статья 2\\n\\nЧеловек, его права и свободы являются высшей ценностью. Признание, соблюдение и защита прав и свобод человека и гражданина - обязанность государства.\\n\\nСтатья 3'),\n",
       " Document(page_content='1. Носителем суверенитета и единственным источником власти в Российской Федерации является ее многонациональный народ.')]"
      ]
     },
     "execution_count": 7,
     "metadata": {},
     "output_type": "execute_result"
    }
   ],
   "execution_count": 7
  },
  {
   "metadata": {},
   "cell_type": "markdown",
   "source": [
    "## Нарезка текста состоящего из иероглифов\n",
    "\n",
    "А в данном примере мы через параметр `separators` заменим разделители текста по умолчанию на CJK разделители. "
   ],
   "id": "15d4e258980260ea"
  },
  {
   "metadata": {
    "ExecuteTime": {
     "end_time": "2024-05-12T20:24:36.863298Z",
     "start_time": "2024-05-12T20:24:36.844462Z"
    }
   },
   "cell_type": "code",
   "source": [
    "text_splitter = RecursiveCharacterTextSplitter(\n",
    "    separators=[\n",
    "        \"\\n\\n\", \"\\n\", \" \", \".\", \",\",\n",
    "        \"\\u200b\",  # Zero-width space\n",
    "        \"\\uff0c\",  # Fullwidth comma\n",
    "        \"\\u3001\",  # Ideographic comma\n",
    "        \"\\uff0e\",  # Fullwidth full stop\n",
    "        \"\\u3002\",  # Ideographic full stop\n",
    "        \"\"  # Последний элемент в списке пытается делить текст на максимально маленькие части\n",
    "    ],\n",
    "    chunk_size=200,\n",
    "    chunk_overlap=20\n",
    ")\n",
    "\n",
    "chunks = text_splitter.create_documents([text])\n",
    "\n",
    "print(f\"Всего чанков: {len(chunks)}\")\n",
    "print(\"Первые N чанков:\")\n",
    "chunks[:10]"
   ],
   "id": "c5882fe0933a5ae",
   "outputs": [
    {
     "name": "stdout",
     "output_type": "stream",
     "text": [
      "Всего чанков: 998\n",
      "Первые N чанков:\n"
     ]
    },
    {
     "data": {
      "text/plain": [
       "[Document(page_content='\\ufeffКОНСТИТУЦИЯ РОССИЙСКОЙ ФЕДЕРАЦИИ'),\n",
       " Document(page_content='Мы, многонациональный народ Российской Федерации,\\nсоединенные общей судьбой на своей земле,\\nутверждая права и свободы человека, гражданский мир и согласие,'),\n",
       " Document(page_content='сохраняя исторически сложившееся государственное единство,\\nисходя из общепризнанных принципов равноправия и самоопределения народов,'),\n",
       " Document(page_content='чтя память предков, передавших нам любовь и уважение к Отечеству, веру в добро и справедливость,\\nвозрождая суверенную государственность России и утверждая незыблемость ее демократической основы,'),\n",
       " Document(page_content='стремясь обеспечить благополучие и процветание России,\\nисходя из ответственности за свою Родину перед нынешним и будущими поколениями,\\nсознавая себя частью мирового сообщества,'),\n",
       " Document(page_content='принимаем КОНСТИТУЦИЮ РОССИЙСКОЙ ФЕДЕРАЦИИ.'),\n",
       " Document(page_content='РАЗДЕЛ ПЕРВЫЙ\\n\\nГЛАВА 1.\\nОСНОВЫ КОНСТИТУЦИОННОГО СТРОЯ\\n\\nСтатья 1'),\n",
       " Document(page_content='Статья 1\\n\\n1. Российская Федерация - Россия есть демократическое федеративное правовое государство с республиканской формой правления.\\n2. Наименования Российская Федерация и Россия равнозначны.'),\n",
       " Document(page_content='Статья 2\\n\\nЧеловек, его права и свободы являются высшей ценностью. Признание, соблюдение и защита прав и свобод человека и гражданина - обязанность государства.\\n\\nСтатья 3'),\n",
       " Document(page_content='1. Носителем суверенитета и единственным источником власти в Российской Федерации является ее многонациональный народ.')]"
      ]
     },
     "execution_count": 8,
     "metadata": {},
     "output_type": "execute_result"
    }
   ],
   "execution_count": 8
  },
  {
   "metadata": {},
   "cell_type": "markdown",
   "source": [
    "## Рекурсивная нарезка JSON документов\n",
    "\n",
    "В данном примере мы нарежем JSON-файл имеющий структуру описанную стандартом OpenAPI."
   ],
   "id": "5335d5993ba7d784"
  },
  {
   "metadata": {
    "ExecuteTime": {
     "end_time": "2024-05-12T20:24:37.408975Z",
     "start_time": "2024-05-12T20:24:36.863957Z"
    }
   },
   "cell_type": "code",
   "source": [
    "import requests\n",
    "\n",
    "json_url = \"https://raw.githubusercontent.com/OAI/OpenAPI-Specification/main/examples/v3.0/uspto.json\"\n",
    "json_data = requests.get(json_url).json()"
   ],
   "id": "cbbade4f1d25b20f",
   "outputs": [],
   "execution_count": 9
  },
  {
   "metadata": {
    "ExecuteTime": {
     "end_time": "2024-05-12T20:24:37.413688Z",
     "start_time": "2024-05-12T20:24:37.410104Z"
    }
   },
   "cell_type": "code",
   "source": [
    "from langchain_text_splitters import RecursiveJsonSplitter\n",
    "\n",
    "json_splitter = RecursiveJsonSplitter(max_chunk_size=300)\n",
    "json_chunks = json_splitter.split_json(json_data=json_data)\n",
    "\n",
    "print(f\"Всего чанков: {len(json_chunks)}\")\n",
    "print(\"Первые N чанков:\")\n",
    "chunks[:10]"
   ],
   "id": "8fb7b4a34237f4e2",
   "outputs": [
    {
     "name": "stdout",
     "output_type": "stream",
     "text": [
      "Всего чанков: 58\n",
      "Первые N чанков:\n"
     ]
    },
    {
     "data": {
      "text/plain": [
       "[Document(page_content='\\ufeffКОНСТИТУЦИЯ РОССИЙСКОЙ ФЕДЕРАЦИИ'),\n",
       " Document(page_content='Мы, многонациональный народ Российской Федерации,\\nсоединенные общей судьбой на своей земле,\\nутверждая права и свободы человека, гражданский мир и согласие,'),\n",
       " Document(page_content='сохраняя исторически сложившееся государственное единство,\\nисходя из общепризнанных принципов равноправия и самоопределения народов,'),\n",
       " Document(page_content='чтя память предков, передавших нам любовь и уважение к Отечеству, веру в добро и справедливость,\\nвозрождая суверенную государственность России и утверждая незыблемость ее демократической основы,'),\n",
       " Document(page_content='стремясь обеспечить благополучие и процветание России,\\nисходя из ответственности за свою Родину перед нынешним и будущими поколениями,\\nсознавая себя частью мирового сообщества,'),\n",
       " Document(page_content='принимаем КОНСТИТУЦИЮ РОССИЙСКОЙ ФЕДЕРАЦИИ.'),\n",
       " Document(page_content='РАЗДЕЛ ПЕРВЫЙ\\n\\nГЛАВА 1.\\nОСНОВЫ КОНСТИТУЦИОННОГО СТРОЯ\\n\\nСтатья 1'),\n",
       " Document(page_content='Статья 1\\n\\n1. Российская Федерация - Россия есть демократическое федеративное правовое государство с республиканской формой правления.\\n2. Наименования Российская Федерация и Россия равнозначны.'),\n",
       " Document(page_content='Статья 2\\n\\nЧеловек, его права и свободы являются высшей ценностью. Признание, соблюдение и защита прав и свобод человека и гражданина - обязанность государства.\\n\\nСтатья 3'),\n",
       " Document(page_content='1. Носителем суверенитета и единственным источником власти в Российской Федерации является ее многонациональный народ.')]"
      ]
     },
     "execution_count": 10,
     "metadata": {},
     "output_type": "execute_result"
    }
   ],
   "execution_count": 10
  }
 ],
 "metadata": {
  "kernelspec": {
   "display_name": "Python 3",
   "language": "python",
   "name": "python3"
  },
  "language_info": {
   "codemirror_mode": {
    "name": "ipython",
    "version": 2
   },
   "file_extension": ".py",
   "mimetype": "text/x-python",
   "name": "python",
   "nbconvert_exporter": "python",
   "pygments_lexer": "ipython2",
   "version": "2.7.6"
  }
 },
 "nbformat": 4,
 "nbformat_minor": 5
}
